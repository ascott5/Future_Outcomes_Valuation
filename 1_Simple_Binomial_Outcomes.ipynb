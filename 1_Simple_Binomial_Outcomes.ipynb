{
 "cells": [
  {
   "cell_type": "markdown",
   "metadata": {},
   "source": [
    "# Heads or Tails?"
   ]
  },
  {
   "cell_type": "markdown",
   "metadata": {},
   "source": [
    "Let's start with a very simple scenario.  We're going to construct a basic set of binary outcomes.  Throughout this multi-week exploration, we'll lean on python as the computing platform and Jupyter notebooks for capturing the workflow.\n",
    "\n",
    "We'll simulate what happens if the value of something starting at $100$ were to go up or down by $1$ over $5$ days.  Assume the probability of going up or down is 50-50."
   ]
  },
  {
   "cell_type": "code",
   "execution_count": 2,
   "metadata": {},
   "outputs": [],
   "source": [
    "import pandas as pd\n",
    "import numpy as np"
   ]
  },
  {
   "cell_type": "code",
   "execution_count": 3,
   "metadata": {},
   "outputs": [],
   "source": [
    "starting_value = 100\n",
    "\n",
    "# List of potential moves in value per day\n",
    "value_changes = [-1,1]\n",
    "\n",
    "#This is where we'll store our outcomes.  We'll create it with the initial value\n",
    "all_outcomes = [[starting_value]]\n",
    "\n",
    "# Loop through 5 days of changes, and store the sorted outcomes\n",
    "for day in range(1,6):\n",
    "    daily_outcomes = []\n",
    "    for each in value_changes:\n",
    "        for prior_value in all_outcomes[-1]:\n",
    "            daily_outcomes.append(prior_value + each)\n",
    "    all_outcomes.append(np.sort(daily_outcomes))\n",
    "\n",
    "all_outcomes = all_outcomes[1:]  "
   ]
  },
  {
   "cell_type": "code",
   "execution_count": 4,
   "metadata": {},
   "outputs": [
    {
     "name": "stdout",
     "output_type": "stream",
     "text": [
      "Day 1 Outcomes:  [ 99 101]\n",
      "Day 2 Outcomes:  [ 98 100 100 102]\n",
      "Day 3 Outcomes:  [ 97  99  99  99 101 101 101 103]\n",
      "Day 4 Outcomes:  [ 96  98  98  98  98 100 100 100 100 100 100 102 102 102 102 104]\n",
      "Day 5 Outcomes:  [ 95  97  97  97  97  97  99  99  99  99  99  99  99  99  99  99 101 101\n",
      " 101 101 101 101 101 101 101 101 103 103 103 103 103 105]\n"
     ]
    }
   ],
   "source": [
    "for i in range(0,5):\n",
    "    print('Day {} Outcomes: '.format(i+1), all_outcomes[i])"
   ]
  },
  {
   "cell_type": "code",
   "execution_count": 5,
   "metadata": {},
   "outputs": [
    {
     "data": {
      "text/plain": [
       "Values\n",
       "95      1\n",
       "97      5\n",
       "99     10\n",
       "101    10\n",
       "103     5\n",
       "105     1\n",
       "dtype: int64"
      ]
     },
     "execution_count": 5,
     "metadata": {},
     "output_type": "execute_result"
    }
   ],
   "source": [
    "df = pd.DataFrame(all_outcomes[4],columns=['Values'])\n",
    "df.groupby(['Values']).size()"
   ]
  },
  {
   "cell_type": "code",
   "execution_count": 6,
   "metadata": {},
   "outputs": [],
   "source": [
    "def build_outcomes(starting_value,value_changes,days):\n",
    "\n",
    "    #This is where we'll store our outcomes.  We'll create it with the initial value\n",
    "    all_outcomes = [[starting_value]]\n",
    "\n",
    "    # Loop through 5 days of changes, and store the sorted outcomes\n",
    "    for day in range(1,(days+1)):\n",
    "        daily_outcomes = []\n",
    "        for each in value_changes:\n",
    "            for prior_value in all_outcomes[-1]:\n",
    "                daily_outcomes.append(prior_value + each)\n",
    "        all_outcomes.append(np.sort(daily_outcomes))\n",
    "\n",
    "    all_outcomes = all_outcomes[1:] \n",
    "    \n",
    "    return(all_outcomes)"
   ]
  },
  {
   "cell_type": "code",
   "execution_count": 7,
   "metadata": {},
   "outputs": [],
   "source": [
    "outcomes = build_outcomes(100,[-1,1],10)"
   ]
  },
  {
   "cell_type": "code",
   "execution_count": 8,
   "metadata": {},
   "outputs": [
    {
     "name": "stdout",
     "output_type": "stream",
     "text": [
      "Day 1 Outcomes:  [ 99 101]\n",
      "Day 2 Outcomes:  [ 98 100 100 102]\n",
      "Day 3 Outcomes:  [ 97  99  99  99 101 101 101 103]\n",
      "Day 4 Outcomes:  [ 96  98  98  98  98 100 100 100 100 100 100 102 102 102 102 104]\n",
      "Day 5 Outcomes:  [ 95  97  97  97  97  97  99  99  99  99  99  99  99  99  99  99 101 101\n",
      " 101 101 101 101 101 101 101 101 103 103 103 103 103 105]\n",
      "Day 6 Outcomes:  [ 94  96  96  96  96  96  96  98  98  98  98  98  98  98  98  98  98  98\n",
      "  98  98  98  98 100 100 100 100 100 100 100 100 100 100 100 100 100 100\n",
      " 100 100 100 100 100 100 102 102 102 102 102 102 102 102 102 102 102 102\n",
      " 102 102 102 104 104 104 104 104 104 106]\n",
      "Day 7 Outcomes:  [ 93  95  95  95  95  95  95  95  97  97  97  97  97  97  97  97  97  97\n",
      "  97  97  97  97  97  97  97  97  97  97  97  99  99  99  99  99  99  99\n",
      "  99  99  99  99  99  99  99  99  99  99  99  99  99  99  99  99  99  99\n",
      "  99  99  99  99  99  99  99  99  99  99 101 101 101 101 101 101 101 101\n",
      " 101 101 101 101 101 101 101 101 101 101 101 101 101 101 101 101 101 101\n",
      " 101 101 101 101 101 101 101 101 101 103 103 103 103 103 103 103 103 103\n",
      " 103 103 103 103 103 103 103 103 103 103 103 103 105 105 105 105 105 105\n",
      " 105 107]\n",
      "Day 8 Outcomes:  [ 92  94  94  94  94  94  94  94  94  96  96  96  96  96  96  96  96  96\n",
      "  96  96  96  96  96  96  96  96  96  96  96  96  96  96  96  96  96  96\n",
      "  96  98  98  98  98  98  98  98  98  98  98  98  98  98  98  98  98  98\n",
      "  98  98  98  98  98  98  98  98  98  98  98  98  98  98  98  98  98  98\n",
      "  98  98  98  98  98  98  98  98  98  98  98  98  98  98  98  98  98  98\n",
      "  98  98  98 100 100 100 100 100 100 100 100 100 100 100 100 100 100 100\n",
      " 100 100 100 100 100 100 100 100 100 100 100 100 100 100 100 100 100 100\n",
      " 100 100 100 100 100 100 100 100 100 100 100 100 100 100 100 100 100 100\n",
      " 100 100 100 100 100 100 100 100 100 100 100 100 100 100 100 100 100 100\n",
      " 100 102 102 102 102 102 102 102 102 102 102 102 102 102 102 102 102 102\n",
      " 102 102 102 102 102 102 102 102 102 102 102 102 102 102 102 102 102 102\n",
      " 102 102 102 102 102 102 102 102 102 102 102 102 102 102 102 102 102 102\n",
      " 102 102 102 104 104 104 104 104 104 104 104 104 104 104 104 104 104 104\n",
      " 104 104 104 104 104 104 104 104 104 104 104 104 104 106 106 106 106 106\n",
      " 106 106 106 108]\n",
      "Day 9 Outcomes:  [ 91  93  93  93  93  93  93  93  93  93  95  95  95  95  95  95  95  95\n",
      "  95  95  95  95  95  95  95  95  95  95  95  95  95  95  95  95  95  95\n",
      "  95  95  95  95  95  95  95  95  95  95  97  97  97  97  97  97  97  97\n",
      "  97  97  97  97  97  97  97  97  97  97  97  97  97  97  97  97  97  97\n",
      "  97  97  97  97  97  97  97  97  97  97  97  97  97  97  97  97  97  97\n",
      "  97  97  97  97  97  97  97  97  97  97  97  97  97  97  97  97  97  97\n",
      "  97  97  97  97  97  97  97  97  97  97  97  97  97  97  97  97  97  97\n",
      "  97  97  97  97  99  99  99  99  99  99  99  99  99  99  99  99  99  99\n",
      "  99  99  99  99  99  99  99  99  99  99  99  99  99  99  99  99  99  99\n",
      "  99  99  99  99  99  99  99  99  99  99  99  99  99  99  99  99  99  99\n",
      "  99  99  99  99  99  99  99  99  99  99  99  99  99  99  99  99  99  99\n",
      "  99  99  99  99  99  99  99  99  99  99  99  99  99  99  99  99  99  99\n",
      "  99  99  99  99  99  99  99  99  99  99  99  99  99  99  99  99  99  99\n",
      "  99  99  99  99  99  99  99  99  99  99  99  99  99  99  99  99  99  99\n",
      "  99  99  99  99 101 101 101 101 101 101 101 101 101 101 101 101 101 101\n",
      " 101 101 101 101 101 101 101 101 101 101 101 101 101 101 101 101 101 101\n",
      " 101 101 101 101 101 101 101 101 101 101 101 101 101 101 101 101 101 101\n",
      " 101 101 101 101 101 101 101 101 101 101 101 101 101 101 101 101 101 101\n",
      " 101 101 101 101 101 101 101 101 101 101 101 101 101 101 101 101 101 101\n",
      " 101 101 101 101 101 101 101 101 101 101 101 101 101 101 101 101 101 101\n",
      " 101 101 101 101 101 101 101 101 101 101 101 101 101 101 101 101 101 101\n",
      " 101 101 101 101 103 103 103 103 103 103 103 103 103 103 103 103 103 103\n",
      " 103 103 103 103 103 103 103 103 103 103 103 103 103 103 103 103 103 103\n",
      " 103 103 103 103 103 103 103 103 103 103 103 103 103 103 103 103 103 103\n",
      " 103 103 103 103 103 103 103 103 103 103 103 103 103 103 103 103 103 103\n",
      " 103 103 103 103 103 103 103 103 103 103 103 103 103 103 103 103 105 105\n",
      " 105 105 105 105 105 105 105 105 105 105 105 105 105 105 105 105 105 105\n",
      " 105 105 105 105 105 105 105 105 105 105 105 105 105 105 105 105 107 107\n",
      " 107 107 107 107 107 107 107 109]\n",
      "Day 10 Outcomes:  [ 90  92  92 ... 108 108 110]\n"
     ]
    }
   ],
   "source": [
    "for i in range(0,10):\n",
    "    print('Day {} Outcomes: '.format(i+1), outcomes[i])"
   ]
  },
  {
   "cell_type": "code",
   "execution_count": 12,
   "metadata": {},
   "outputs": [
    {
     "data": {
      "text/plain": [
       "Values\n",
       "90     0.000977\n",
       "92     0.009766\n",
       "94     0.043945\n",
       "96     0.117188\n",
       "98     0.205078\n",
       "100    0.246094\n",
       "102    0.205078\n",
       "104    0.117188\n",
       "106    0.043945\n",
       "108    0.009766\n",
       "110    0.000977\n",
       "dtype: float64"
      ]
     },
     "execution_count": 12,
     "metadata": {},
     "output_type": "execute_result"
    }
   ],
   "source": [
    "df = pd.DataFrame(outcomes[9],columns=['Values'])\n",
    "df.groupby(['Values']).size()/1024"
   ]
  },
  {
   "cell_type": "markdown",
   "metadata": {},
   "source": [
    "Two thirds of the outcomes are within 2 dollars of the starting value.  What would you pay for the option to pay 100 dollars 10 days from now?"
   ]
  },
  {
   "cell_type": "code",
   "execution_count": 14,
   "metadata": {},
   "outputs": [
    {
     "data": {
      "text/plain": [
       "1.1600000000000001"
      ]
     },
     "execution_count": 14,
     "metadata": {},
     "output_type": "execute_result"
    }
   ],
   "source": [
    "2*.2+4*.11+6*0.04+0.01*8"
   ]
  },
  {
   "cell_type": "markdown",
   "metadata": {},
   "source": [
    "The fair value of that option is worth \\$1.16"
   ]
  },
  {
   "cell_type": "code",
   "execution_count": null,
   "metadata": {},
   "outputs": [],
   "source": []
  }
 ],
 "metadata": {
  "kernelspec": {
   "display_name": "Python 3",
   "language": "python",
   "name": "python3"
  },
  "language_info": {
   "codemirror_mode": {
    "name": "ipython",
    "version": 3
   },
   "file_extension": ".py",
   "mimetype": "text/x-python",
   "name": "python",
   "nbconvert_exporter": "python",
   "pygments_lexer": "ipython3",
   "version": "3.7.4"
  }
 },
 "nbformat": 4,
 "nbformat_minor": 2
}
