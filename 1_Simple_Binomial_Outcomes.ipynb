{
 "cells": [
  {
   "cell_type": "markdown",
   "metadata": {},
   "source": [
    "# Heads or Tails?"
   ]
  },
  {
   "cell_type": "markdown",
   "metadata": {},
   "source": [
    "Let's start with a very simple scenario.  We're going to construct a basic set of binary outcomes.  Throughout this multi-week exploration, we'll lean on python as the computing platform and Jupyter notebooks for capturing the workflow.\n",
    "\n",
    "We'll simulate what happens if the value of something starting at $100$ were to go up or down by $1$ over $5$ days.  Assume the probability of going up or down is 50-50."
   ]
  },
  {
   "cell_type": "code",
   "execution_count": 9,
   "metadata": {},
   "outputs": [],
   "source": [
    "import pandas as pd\n",
    "import numpy as np"
   ]
  },
  {
   "cell_type": "code",
   "execution_count": 34,
   "metadata": {},
   "outputs": [],
   "source": [
    "starting_value = 100\n",
    "\n",
    "# List of potential moves in value per day\n",
    "value_changes = [-1,1]\n",
    "\n",
    "#This is where we'll store our outcomes.  We'll create it with the initial value\n",
    "all_outcomes = [[100]]\n",
    "\n",
    "# Loop through 5 days of changes, and store the sorted outcomes\n",
    "for day in range(1,6):\n",
    "    daily_outcomes = []\n",
    "    for each in value_changes:\n",
    "        for prior_value in all_outcomes[-1]:\n",
    "            daily_outcomes.append(prior_value + each)\n",
    "    all_outcomes.append(np.sort(daily_outcomes))\n",
    "\n",
    "all_outcomes = all_outcomes[1:]  "
   ]
  },
  {
   "cell_type": "code",
   "execution_count": 40,
   "metadata": {},
   "outputs": [
    {
     "name": "stdout",
     "output_type": "stream",
     "text": [
      "Day 1 Outcomes:  [ 99 101]\n",
      "Day 2 Outcomes:  [ 98 100 100 102]\n",
      "Day 3 Outcomes:  [ 97  99  99  99 101 101 101 103]\n",
      "Day 4 Outcomes:  [ 96  98  98  98  98 100 100 100 100 100 100 102 102 102 102 104]\n",
      "Day 5 Outcomes:  [ 95  97  97  97  97  97  99  99  99  99  99  99  99  99  99  99 101 101\n",
      " 101 101 101 101 101 101 101 101 103 103 103 103 103 105]\n"
     ]
    }
   ],
   "source": [
    "for i in range(0,5):\n",
    "    print('Day {} Outcomes: '.format(i+1), all_outcomes[i])"
   ]
  },
  {
   "cell_type": "code",
   "execution_count": 41,
   "metadata": {},
   "outputs": [
    {
     "data": {
      "text/plain": [
       "Values\n",
       "95      1\n",
       "97      5\n",
       "99     10\n",
       "101    10\n",
       "103     5\n",
       "105     1\n",
       "dtype: int64"
      ]
     },
     "execution_count": 41,
     "metadata": {},
     "output_type": "execute_result"
    }
   ],
   "source": [
    "df = pd.DataFrame(all_outcomes[4],columns=['Values'])\n",
    "df.groupby(['Values']).size()"
   ]
  }
 ],
 "metadata": {
  "kernelspec": {
   "display_name": "Python 3",
   "language": "python",
   "name": "python3"
  },
  "language_info": {
   "codemirror_mode": {
    "name": "ipython",
    "version": 3
   },
   "file_extension": ".py",
   "mimetype": "text/x-python",
   "name": "python",
   "nbconvert_exporter": "python",
   "pygments_lexer": "ipython3",
   "version": "3.7.4"
  }
 },
 "nbformat": 4,
 "nbformat_minor": 2
}
